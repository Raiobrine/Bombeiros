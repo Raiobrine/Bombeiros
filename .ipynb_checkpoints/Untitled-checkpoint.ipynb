{
 "cells": [
  {
   "cell_type": "code",
   "execution_count": 1,
   "metadata": {},
   "outputs": [],
   "source": [
    "import gmaps;\n",
    "from geopy.geocoders import Nominatim;"
   ]
  },
  {
   "cell_type": "code",
   "execution_count": 2,
   "metadata": {},
   "outputs": [],
   "source": [
    "geolocator = Nominatim(user_agent=\"algo\");"
   ]
  },
  {
   "cell_type": "code",
   "execution_count": 8,
   "metadata": {},
   "outputs": [],
   "source": [
    "vetores=[];"
   ]
  },
  {
   "cell_type": "code",
   "execution_count": 3,
   "metadata": {},
   "outputs": [],
   "source": [
    "vetores.append({\"name\":\"prata, campina grande\", \"location\":(2,4),\"conections\":[[(1,2),4]]});"
   ]
  },
  {
   "cell_type": "code",
   "execution_count": 4,
   "metadata": {},
   "outputs": [],
   "source": [
    "vetores[0]['name'];"
   ]
  },
  {
   "cell_type": "code",
   "execution_count": 5,
   "metadata": {},
   "outputs": [
    {
     "data": {
      "text/plain": [
       "'prata, campina grande'"
      ]
     },
     "execution_count": 5,
     "metadata": {},
     "output_type": "execute_result"
    }
   ],
   "source": []
  },
  {
   "cell_type": "code",
   "execution_count": 12,
   "metadata": {},
   "outputs": [],
   "source": [
    "def insertConections(vetor, conections):\n",
    "    if(len(conections)>0):\n",
    "        for i in range(0,len(vetores)):\n",
    "            if(vetores[i]['name'] in conections or vetores[i]['location'] in conections):\n",
    "                vetores[i]['conections'].append(vetor)"
   ]
  },
  {
   "cell_type": "code",
   "execution_count": 11,
   "metadata": {},
   "outputs": [],
   "source": [
    "def insertVetor(vetor, from_list=[]):\n",
    "    insertConections(vetor['location'], from_list)\n",
    "    vetores.append(vetor);"
   ]
  },
  {
   "cell_type": "code",
   "execution_count": 3,
   "metadata": {},
   "outputs": [],
   "source": [
    "def getVector(vector):\n",
    "    for i in range(0,len(vetores)):\n",
    "        if vetores[i]['name']==vector or vetores[i]['location']==vector:\n",
    "            return vetores[i];\n",
    "    return False;"
   ]
  },
  {
   "cell_type": "code",
   "execution_count": 13,
   "metadata": {},
   "outputs": [],
   "source": [
    "insertVetor({\"name\":\"v0\",\"location\":(0,0),\"conections\":[[(1,1),10],[(1,0),5]]})\n",
    "insertVetor({\"name\":\"v1\",\"location\":(1,1),\"conections\":[[(2,1),1]]})\n",
    "insertVetor({\"name\":\"v2\",\"location\":(1,0),\"conections\":[[(1,1),3],[(2,0),2]]})\n",
    "insertVetor({\"name\":\"v3\",\"location\":(2,1),\"conections\":[[(3,1),4],[(2,0),4]]})\n",
    "insertVetor({\"name\":\"v4\",\"location\":(2,0),\"conections\":[[(3,1),6]]})\n",
    "insertVetor({\"name\":\"v5\",\"location\":(3,1),\"conections\":[]})"
   ]
  },
  {
   "cell_type": "code",
   "execution_count": 14,
   "metadata": {},
   "outputs": [
    {
     "data": {
      "text/plain": [
       "[{'name': 'v0', 'location': (0, 0), 'conections': [[(1, 1), 10], [(1, 0), 5]]},\n",
       " {'name': 'v1', 'location': (1, 1), 'conections': [[(2, 1), 1]]},\n",
       " {'name': 'v2', 'location': (1, 0), 'conections': [[(1, 1), 3], [(2, 0), 2]]},\n",
       " {'name': 'v3', 'location': (2, 1), 'conections': [[(3, 1), 4], [(2, 0), 4]]},\n",
       " {'name': 'v4', 'location': (2, 0), 'conections': [[(3, 1), 6]]},\n",
       " {'name': 'v5', 'location': (3, 1), 'conections': []}]"
      ]
     },
     "execution_count": 14,
     "metadata": {},
     "output_type": "execute_result"
    }
   ],
   "source": [
    "vetores"
   ]
  },
  {
   "cell_type": "code",
   "execution_count": 17,
   "metadata": {},
   "outputs": [],
   "source": [
    "def getconnections(vetor,ban=[]):\n",
    "    lista=[]\n",
    "    for x in range(0,len(vetor['conections'])):\n",
    "        print(x,len(vetor['conections']))\n",
    "        print(\"start\",vetor)\n",
    "        vetor= getVector(vetor['conections'][x][0]);\n",
    "        if(vetor!=False):\n",
    "            print(\"vetor_conections\",vetor['conections'],len(vetor['conections']))\n",
    "            if(len(vetor['conections'])>0):\n",
    "                if(vetor['location'] in ban):\n",
    "                    print('passed')\n",
    "                    if(not(vetor in lista)):\n",
    "                        lista.append(vetor)\n",
    "                        ban.append(vetor['location'])\n",
    "                        getconnections(vetor,ban);\n",
    "            else:\n",
    "                ban.append(vetor['location'])\n",
    "        else: return 0;\n",
    "            \n",
    "        "
   ]
  },
  {
   "cell_type": "code",
   "execution_count": 18,
   "metadata": {},
   "outputs": [
    {
     "name": "stdout",
     "output_type": "stream",
     "text": [
      "0 2\n",
      "start {'name': 'v0', 'location': (0, 0), 'conections': [[(1, 1), 10], [(1, 0), 5]]}\n",
      "vetor_conections [[(2, 1), 1]] 1\n",
      "1 1\n",
      "start {'name': 'v1', 'location': (1, 1), 'conections': [[(2, 1), 1]]}\n"
     ]
    },
    {
     "ename": "IndexError",
     "evalue": "list index out of range",
     "output_type": "error",
     "traceback": [
      "\u001b[1;31m---------------------------------------------------------------------------\u001b[0m",
      "\u001b[1;31mIndexError\u001b[0m                                Traceback (most recent call last)",
      "\u001b[1;32m<ipython-input-18-0e9249034a6e>\u001b[0m in \u001b[0;36m<module>\u001b[1;34m\u001b[0m\n\u001b[1;32m----> 1\u001b[1;33m \u001b[0mgetconnections\u001b[0m\u001b[1;33m(\u001b[0m\u001b[0mgetVector\u001b[0m\u001b[1;33m(\u001b[0m\u001b[1;33m(\u001b[0m\u001b[1;36m0\u001b[0m\u001b[1;33m,\u001b[0m\u001b[1;36m0\u001b[0m\u001b[1;33m)\u001b[0m\u001b[1;33m)\u001b[0m\u001b[1;33m)\u001b[0m\u001b[1;33m\u001b[0m\u001b[1;33m\u001b[0m\u001b[0m\n\u001b[0m",
      "\u001b[1;32m<ipython-input-17-945444de3db2>\u001b[0m in \u001b[0;36mgetconnections\u001b[1;34m(vetor, ban)\u001b[0m\n\u001b[0;32m      4\u001b[0m         \u001b[0mprint\u001b[0m\u001b[1;33m(\u001b[0m\u001b[0mx\u001b[0m\u001b[1;33m,\u001b[0m\u001b[0mlen\u001b[0m\u001b[1;33m(\u001b[0m\u001b[0mvetor\u001b[0m\u001b[1;33m[\u001b[0m\u001b[1;34m'conections'\u001b[0m\u001b[1;33m]\u001b[0m\u001b[1;33m)\u001b[0m\u001b[1;33m)\u001b[0m\u001b[1;33m\u001b[0m\u001b[1;33m\u001b[0m\u001b[0m\n\u001b[0;32m      5\u001b[0m         \u001b[0mprint\u001b[0m\u001b[1;33m(\u001b[0m\u001b[1;34m\"start\"\u001b[0m\u001b[1;33m,\u001b[0m\u001b[0mvetor\u001b[0m\u001b[1;33m)\u001b[0m\u001b[1;33m\u001b[0m\u001b[1;33m\u001b[0m\u001b[0m\n\u001b[1;32m----> 6\u001b[1;33m         \u001b[0mvetor\u001b[0m\u001b[1;33m=\u001b[0m \u001b[0mgetVector\u001b[0m\u001b[1;33m(\u001b[0m\u001b[0mvetor\u001b[0m\u001b[1;33m[\u001b[0m\u001b[1;34m'conections'\u001b[0m\u001b[1;33m]\u001b[0m\u001b[1;33m[\u001b[0m\u001b[0mx\u001b[0m\u001b[1;33m]\u001b[0m\u001b[1;33m[\u001b[0m\u001b[1;36m0\u001b[0m\u001b[1;33m]\u001b[0m\u001b[1;33m)\u001b[0m\u001b[1;33m;\u001b[0m\u001b[1;33m\u001b[0m\u001b[1;33m\u001b[0m\u001b[0m\n\u001b[0m\u001b[0;32m      7\u001b[0m         \u001b[1;32mif\u001b[0m\u001b[1;33m(\u001b[0m\u001b[0mvetor\u001b[0m\u001b[1;33m!=\u001b[0m\u001b[1;32mFalse\u001b[0m\u001b[1;33m)\u001b[0m\u001b[1;33m:\u001b[0m\u001b[1;33m\u001b[0m\u001b[1;33m\u001b[0m\u001b[0m\n\u001b[0;32m      8\u001b[0m             \u001b[0mprint\u001b[0m\u001b[1;33m(\u001b[0m\u001b[1;34m\"vetor_conections\"\u001b[0m\u001b[1;33m,\u001b[0m\u001b[0mvetor\u001b[0m\u001b[1;33m[\u001b[0m\u001b[1;34m'conections'\u001b[0m\u001b[1;33m]\u001b[0m\u001b[1;33m,\u001b[0m\u001b[0mlen\u001b[0m\u001b[1;33m(\u001b[0m\u001b[0mvetor\u001b[0m\u001b[1;33m[\u001b[0m\u001b[1;34m'conections'\u001b[0m\u001b[1;33m]\u001b[0m\u001b[1;33m)\u001b[0m\u001b[1;33m)\u001b[0m\u001b[1;33m\u001b[0m\u001b[1;33m\u001b[0m\u001b[0m\n",
      "\u001b[1;31mIndexError\u001b[0m: list index out of range"
     ]
    }
   ],
   "source": [
    "getconnections(getVector((0,0)))"
   ]
  },
  {
   "cell_type": "code",
   "execution_count": 28,
   "metadata": {},
   "outputs": [
    {
     "ename": "NameError",
     "evalue": "name 'false' is not defined",
     "output_type": "error",
     "traceback": [
      "\u001b[1;31m---------------------------------------------------------------------------\u001b[0m",
      "\u001b[1;31mNameError\u001b[0m                                 Traceback (most recent call last)",
      "\u001b[1;32m<ipython-input-28-031d0ffe67c2>\u001b[0m in \u001b[0;36m<module>\u001b[1;34m\u001b[0m\n\u001b[1;32m----> 1\u001b[1;33m \u001b[1;32mnot\u001b[0m \u001b[0mfalse\u001b[0m\u001b[1;33m\u001b[0m\u001b[1;33m\u001b[0m\u001b[0m\n\u001b[0m",
      "\u001b[1;31mNameError\u001b[0m: name 'false' is not defined"
     ]
    }
   ],
   "source": [
    "not False"
   ]
  },
  {
   "cell_type": "code",
   "execution_count": 36,
   "metadata": {},
   "outputs": [
    {
     "data": {
      "text/plain": [
       "False"
      ]
     },
     "execution_count": 36,
     "metadata": {},
     "output_type": "execute_result"
    }
   ],
   "source": [
    "not(not False)"
   ]
  },
  {
   "cell_type": "code",
   "execution_count": 24,
   "metadata": {},
   "outputs": [
    {
     "data": {
      "text/plain": [
       "0"
      ]
     },
     "execution_count": 24,
     "metadata": {},
     "output_type": "execute_result"
    }
   ],
   "source": [
    "len([])"
   ]
  },
  {
   "cell_type": "code",
   "execution_count": 25,
   "metadata": {},
   "outputs": [
    {
     "data": {
      "text/plain": [
       "True"
      ]
     },
     "execution_count": 25,
     "metadata": {},
     "output_type": "execute_result"
    }
   ],
   "source": [
    "{'name': 'v4', 'location': (2, 0), 'conections': [[(3, 1), 6]]}!=False"
   ]
  },
  {
   "cell_type": "code",
   "execution_count": null,
   "metadata": {},
   "outputs": [],
   "source": []
  }
 ],
 "metadata": {
  "kernelspec": {
   "display_name": "Python 3",
   "language": "python",
   "name": "python3"
  },
  "language_info": {
   "codemirror_mode": {
    "name": "ipython",
    "version": 3
   },
   "file_extension": ".py",
   "mimetype": "text/x-python",
   "name": "python",
   "nbconvert_exporter": "python",
   "pygments_lexer": "ipython3",
   "version": "3.8.5"
  }
 },
 "nbformat": 4,
 "nbformat_minor": 4
}
